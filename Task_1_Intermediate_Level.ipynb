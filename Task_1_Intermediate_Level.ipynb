                     LETSGROWMORE
                     DATA SCIENCE
                     INTERN TASK
                     JUNE 2023 

                     TASK - 01

                     Prediction
                     Using Decision
                     Tree Algorithm
                       By Priyanka nayak
