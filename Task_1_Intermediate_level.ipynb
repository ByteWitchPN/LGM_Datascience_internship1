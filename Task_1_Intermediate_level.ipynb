                                                       LETSGROWMORE
                                                          DATASCIENCE 
                                                      INTERN TASKS
                                                      JUNE 2023

                                                      TASK __01
                                                     Prediction Using Decision
                                                        Tree Alogorithm
                                                     BY PriyankaNayak
